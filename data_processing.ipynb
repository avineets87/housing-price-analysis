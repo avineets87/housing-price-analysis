{
 "cells": [
  {
   "cell_type": "code",
<<<<<<< HEAD
<<<<<<< HEAD
   "execution_count": 55,

=======
   "execution_count": 172,
>>>>>>> Marwa
   "metadata": {},
   "outputs": [],
   "source": [
    "# loading libraries \n",
    "import pandas as pd\n",
    "import numpy as np"
   ]
  },
  {
   "cell_type": "code",
<<<<<<< HEAD
<<<<<<< HEAD
   "execution_count": 56,

=======
   "execution_count": 173,
>>>>>>> Marwa
   "metadata": {},
   "outputs": [
    {
     "data": {
      "text/html": [
       "<div>\n",
       "<style scoped>\n",
       "    .dataframe tbody tr th:only-of-type {\n",
       "        vertical-align: middle;\n",
       "    }\n",
       "\n",
       "    .dataframe tbody tr th {\n",
       "        vertical-align: top;\n",
       "    }\n",
       "\n",
       "    .dataframe thead th {\n",
       "        text-align: right;\n",
       "    }\n",
       "</style>\n",
       "<table border=\"1\" class=\"dataframe\">\n",
       "  <thead>\n",
       "    <tr style=\"text-align: right;\">\n",
       "      <th></th>\n",
       "      <th>BROKERTITLE</th>\n",
       "      <th>TYPE</th>\n",
       "      <th>PRICE</th>\n",
       "      <th>BEDS</th>\n",
       "      <th>BATH</th>\n",
       "      <th>PROPERTYSQFT</th>\n",
       "      <th>ADDRESS</th>\n",
       "      <th>STATE</th>\n",
       "      <th>MAIN_ADDRESS</th>\n",
       "      <th>ADMINISTRATIVE_AREA_LEVEL_2</th>\n",
       "      <th>LOCALITY</th>\n",
       "      <th>SUBLOCALITY</th>\n",
       "      <th>STREET_NAME</th>\n",
       "      <th>LONG_NAME</th>\n",
       "      <th>FORMATTED_ADDRESS</th>\n",
       "      <th>LATITUDE</th>\n",
       "      <th>LONGITUDE</th>\n",
       "    </tr>\n",
       "  </thead>\n",
       "  <tbody>\n",
       "    <tr>\n",
       "      <th>0</th>\n",
       "      <td>Brokered by Douglas Elliman  -111 Fifth Ave</td>\n",
       "      <td>Condo for sale</td>\n",
       "      <td>315000</td>\n",
       "      <td>2</td>\n",
       "      <td>2.000000</td>\n",
       "      <td>1400.0</td>\n",
       "      <td>2 E 55th St Unit 803</td>\n",
       "      <td>New York, NY 10022</td>\n",
       "      <td>2 E 55th St Unit 803New York, NY 10022</td>\n",
       "      <td>New York County</td>\n",
       "      <td>New York</td>\n",
       "      <td>Manhattan</td>\n",
       "      <td>East 55th Street</td>\n",
       "      <td>Regis Residence</td>\n",
       "      <td>Regis Residence, 2 E 55th St #803, New York, N...</td>\n",
       "      <td>40.761255</td>\n",
       "      <td>-73.974483</td>\n",
       "    </tr>\n",
       "    <tr>\n",
       "      <th>1</th>\n",
       "      <td>Brokered by Serhant</td>\n",
       "      <td>Condo for sale</td>\n",
       "      <td>195000000</td>\n",
       "      <td>7</td>\n",
       "      <td>10.000000</td>\n",
       "      <td>17545.0</td>\n",
       "      <td>Central Park Tower Penthouse-217 W 57th New Yo...</td>\n",
       "      <td>New York, NY 10019</td>\n",
       "      <td>Central Park Tower Penthouse-217 W 57th New Yo...</td>\n",
       "      <td>United States</td>\n",
       "      <td>New York</td>\n",
       "      <td>New York County</td>\n",
       "      <td>New York</td>\n",
       "      <td>West 57th Street</td>\n",
       "      <td>217 W 57th St, New York, NY 10019, USA</td>\n",
       "      <td>40.766393</td>\n",
       "      <td>-73.980991</td>\n",
       "    </tr>\n",
       "    <tr>\n",
       "      <th>2</th>\n",
       "      <td>Brokered by Sowae Corp</td>\n",
       "      <td>House for sale</td>\n",
       "      <td>260000</td>\n",
       "      <td>4</td>\n",
       "      <td>2.000000</td>\n",
       "      <td>2015.0</td>\n",
       "      <td>620 Sinclair Ave</td>\n",
       "      <td>Staten Island, NY 10312</td>\n",
       "      <td>620 Sinclair AveStaten Island, NY 10312</td>\n",
       "      <td>United States</td>\n",
       "      <td>New York</td>\n",
       "      <td>Richmond County</td>\n",
       "      <td>Staten Island</td>\n",
       "      <td>Sinclair Avenue</td>\n",
       "      <td>620 Sinclair Ave, Staten Island, NY 10312, USA</td>\n",
       "      <td>40.541805</td>\n",
       "      <td>-74.196109</td>\n",
       "    </tr>\n",
       "    <tr>\n",
       "      <th>3</th>\n",
       "      <td>Brokered by COMPASS</td>\n",
       "      <td>Condo for sale</td>\n",
       "      <td>69000</td>\n",
       "      <td>3</td>\n",
       "      <td>1.000000</td>\n",
       "      <td>445.0</td>\n",
       "      <td>2 E 55th St Unit 908W33</td>\n",
       "      <td>Manhattan, NY 10022</td>\n",
       "      <td>2 E 55th St Unit 908W33Manhattan, NY 10022</td>\n",
       "      <td>United States</td>\n",
       "      <td>New York</td>\n",
       "      <td>New York County</td>\n",
       "      <td>New York</td>\n",
       "      <td>East 55th Street</td>\n",
       "      <td>2 E 55th St, New York, NY 10022, USA</td>\n",
       "      <td>40.761398</td>\n",
       "      <td>-73.974613</td>\n",
       "    </tr>\n",
       "    <tr>\n",
       "      <th>4</th>\n",
       "      <td>Brokered by Sotheby's International Realty - E...</td>\n",
       "      <td>Townhouse for sale</td>\n",
       "      <td>55000000</td>\n",
       "      <td>7</td>\n",
       "      <td>2.373861</td>\n",
       "      <td>14175.0</td>\n",
       "      <td>5 E 64th St</td>\n",
       "      <td>New York, NY 10065</td>\n",
       "      <td>5 E 64th StNew York, NY 10065</td>\n",
       "      <td>United States</td>\n",
       "      <td>New York</td>\n",
       "      <td>New York County</td>\n",
       "      <td>New York</td>\n",
       "      <td>East 64th Street</td>\n",
       "      <td>5 E 64th St, New York, NY 10065, USA</td>\n",
       "      <td>40.767224</td>\n",
       "      <td>-73.969856</td>\n",
       "    </tr>\n",
       "  </tbody>\n",
       "</table>\n",
       "</div>"
      ],
      "text/plain": [
       "                                         BROKERTITLE                TYPE  \\\n",
       "0        Brokered by Douglas Elliman  -111 Fifth Ave      Condo for sale   \n",
       "1                                Brokered by Serhant      Condo for sale   \n",
       "2                             Brokered by Sowae Corp      House for sale   \n",
       "3                                Brokered by COMPASS      Condo for sale   \n",
       "4  Brokered by Sotheby's International Realty - E...  Townhouse for sale   \n",
       "\n",
       "       PRICE  BEDS       BATH  PROPERTYSQFT  \\\n",
       "0     315000     2   2.000000        1400.0   \n",
       "1  195000000     7  10.000000       17545.0   \n",
       "2     260000     4   2.000000        2015.0   \n",
       "3      69000     3   1.000000         445.0   \n",
       "4   55000000     7   2.373861       14175.0   \n",
       "\n",
       "                                             ADDRESS                    STATE  \\\n",
       "0                               2 E 55th St Unit 803       New York, NY 10022   \n",
       "1  Central Park Tower Penthouse-217 W 57th New Yo...       New York, NY 10019   \n",
       "2                                   620 Sinclair Ave  Staten Island, NY 10312   \n",
       "3                            2 E 55th St Unit 908W33      Manhattan, NY 10022   \n",
       "4                                        5 E 64th St       New York, NY 10065   \n",
       "\n",
       "                                        MAIN_ADDRESS  \\\n",
       "0             2 E 55th St Unit 803New York, NY 10022   \n",
       "1  Central Park Tower Penthouse-217 W 57th New Yo...   \n",
       "2            620 Sinclair AveStaten Island, NY 10312   \n",
       "3         2 E 55th St Unit 908W33Manhattan, NY 10022   \n",
       "4                      5 E 64th StNew York, NY 10065   \n",
       "\n",
       "  ADMINISTRATIVE_AREA_LEVEL_2  LOCALITY      SUBLOCALITY       STREET_NAME  \\\n",
       "0             New York County  New York        Manhattan  East 55th Street   \n",
       "1               United States  New York  New York County          New York   \n",
       "2               United States  New York  Richmond County     Staten Island   \n",
       "3               United States  New York  New York County          New York   \n",
       "4               United States  New York  New York County          New York   \n",
       "\n",
       "          LONG_NAME                                  FORMATTED_ADDRESS  \\\n",
       "0   Regis Residence  Regis Residence, 2 E 55th St #803, New York, N...   \n",
       "1  West 57th Street             217 W 57th St, New York, NY 10019, USA   \n",
       "2   Sinclair Avenue     620 Sinclair Ave, Staten Island, NY 10312, USA   \n",
       "3  East 55th Street               2 E 55th St, New York, NY 10022, USA   \n",
       "4  East 64th Street               5 E 64th St, New York, NY 10065, USA   \n",
       "\n",
       "    LATITUDE  LONGITUDE  \n",
       "0  40.761255 -73.974483  \n",
       "1  40.766393 -73.980991  \n",
       "2  40.541805 -74.196109  \n",
       "3  40.761398 -73.974613  \n",
       "4  40.767224 -73.969856  "
      ]
     },
     "execution_count": 173,
     "metadata": {},
     "output_type": "execute_result"
    }
   ],
   "source": [
    "#read and display data\n",
    "df1 =pd.read_csv(\"resources/NY-House-Dataset.csv\")\n",
    "df1.head()"
   ]
  },
  {
   "cell_type": "code",
   "execution_count": 174,
   "metadata": {},
   "outputs": [
    {
     "data": {
      "text/html": [
       "<div>\n",
       "<style scoped>\n",
       "    .dataframe tbody tr th:only-of-type {\n",
       "        vertical-align: middle;\n",
       "    }\n",
       "\n",
       "    .dataframe tbody tr th {\n",
       "        vertical-align: top;\n",
       "    }\n",
       "\n",
       "    .dataframe thead th {\n",
       "        text-align: right;\n",
       "    }\n",
       "</style>\n",
       "<table border=\"1\" class=\"dataframe\">\n",
       "  <thead>\n",
       "    <tr style=\"text-align: right;\">\n",
       "      <th></th>\n",
       "      <th>LATITUDE</th>\n",
       "      <th>LONGITUDE</th>\n",
       "      <th>STATE</th>\n",
       "      <th>LOCALITY</th>\n",
       "      <th>SUBLOCALITY</th>\n",
       "      <th>POSTCODE</th>\n",
       "      <th>PROPERTY_CATEGORY</th>\n",
       "    </tr>\n",
       "  </thead>\n",
       "  <tbody>\n",
       "    <tr>\n",
       "      <th>0</th>\n",
       "      <td>40.761255</td>\n",
       "      <td>-73.974483</td>\n",
       "      <td>New York</td>\n",
       "      <td>New York</td>\n",
       "      <td>Manhattan</td>\n",
       "      <td>10022</td>\n",
       "      <td>catering.restaurant</td>\n",
       "    </tr>\n",
       "    <tr>\n",
       "      <th>1</th>\n",
       "      <td>40.766393</td>\n",
       "      <td>-73.980991</td>\n",
       "      <td>New York</td>\n",
       "      <td>New York</td>\n",
       "      <td>Manhattan</td>\n",
       "      <td>10019</td>\n",
       "      <td>building.residential</td>\n",
       "    </tr>\n",
       "    <tr>\n",
       "      <th>2</th>\n",
       "      <td>40.541805</td>\n",
       "      <td>-74.196109</td>\n",
       "      <td>New York</td>\n",
       "      <td>New York</td>\n",
       "      <td>Staten Island</td>\n",
       "      <td>10312</td>\n",
       "      <td>building.residential</td>\n",
       "    </tr>\n",
       "    <tr>\n",
       "      <th>3</th>\n",
       "      <td>40.761398</td>\n",
       "      <td>-73.974613</td>\n",
       "      <td>New York</td>\n",
       "      <td>New York</td>\n",
       "      <td>Manhattan</td>\n",
       "      <td>10022</td>\n",
       "      <td>catering.bar</td>\n",
       "    </tr>\n",
       "    <tr>\n",
       "      <th>4</th>\n",
       "      <td>40.767224</td>\n",
       "      <td>-73.969856</td>\n",
       "      <td>New York</td>\n",
       "      <td>New York</td>\n",
       "      <td>Manhattan</td>\n",
       "      <td>10065</td>\n",
       "      <td>building</td>\n",
       "    </tr>\n",
       "  </tbody>\n",
       "</table>\n",
       "</div>"
      ],
      "text/plain": [
       "    LATITUDE  LONGITUDE     STATE  LOCALITY    SUBLOCALITY POSTCODE  \\\n",
       "0  40.761255 -73.974483  New York  New York      Manhattan    10022   \n",
       "1  40.766393 -73.980991  New York  New York      Manhattan    10019   \n",
       "2  40.541805 -74.196109  New York  New York  Staten Island    10312   \n",
       "3  40.761398 -73.974613  New York  New York      Manhattan    10022   \n",
       "4  40.767224 -73.969856  New York  New York      Manhattan    10065   \n",
       "\n",
       "      PROPERTY_CATEGORY  \n",
       "0   catering.restaurant  \n",
       "1  building.residential  \n",
       "2  building.residential  \n",
       "3          catering.bar  \n",
       "4              building  "
      ]
     },
     "execution_count": 174,
     "metadata": {},
     "output_type": "execute_result"
    }
   ],
   "source": [
    "#load the extrated api data\n",
<<<<<<< HEAD

=======
>>>>>>> Marwa
    "df2 = pd.read_csv('resources/housing_geocode_extraction.csv')\n",
    "#display the first 5 rows of the dataframe\n",
    "df2.head()\n"
   ]
  },
  {
   "cell_type": "code",
   "execution_count": 175,
   "metadata": {},
   "outputs": [
    {
     "data": {
      "text/plain": [
       "array(['Manhattan', 'Staten Island', 'Brooklyn', 'The Bronx', 'Queens',\n",
       "       'Howland Hook', 'Silver Lake', 'Upper East Side', 'Bayridge',\n",
       "       'Throgs Neck', 'Queens County', 'Gravesend', 'Forest Hills',\n",
       "       'Briarwood', 'Midwood', 'Bath Beach', 'Brighton Beach',\n",
       "       'Central Harlem', 'Tribeca', \"Prince's Bay\", 'Bedford-Stuyvesant',\n",
       "       'Marine Park', 'Riverdale', 'Graniteville', 'Dongan Hills',\n",
       "       'Canarsie', 'Bay Terrace (Queens)', 'Glen Oaks', \"Bull's Head\",\n",
       "       'Elmhurst', 'Fort Hamilton', 'Kew Gardens Hills', 'Murray Hill',\n",
       "       'Midtown East', 'Greenwich Village', 'Spuyten Duyvil', 'Rego Park',\n",
       "       'Ozone Park', 'Jackson Heights', 'Howard Beach', 'East Village',\n",
       "       'Whitestone', 'Rockaway Park', 'Maspeth', 'Flushing', 'Wakefield',\n",
       "       'Sheepshead Bay', 'East Flatbush', 'Upper West Side',\n",
       "       'Jamaica Estates', 'Clason Point', 'Arverne', 'Kew Gardens',\n",
       "       'Bensonhurst', 'Rossville', 'Sunset Park', 'New Springville',\n",
       "       'Mill Basin', 'Floral Park', 'SoHo', 'Douglaston', 'Oakwood',\n",
       "       'Laurelton', 'Stuyvesant Town', 'Washington Heights',\n",
       "       'East Harlem', 'Williamsburg', 'Roosevelt Island', 'Park Slope',\n",
       "       'Fresh Meadows', 'Richmond County', 'Kingsbridge', 'Sunnyside',\n",
       "       'Borough Park', 'Hamilton Heights', 'Gramercy', 'West Village',\n",
       "       'Todt Hill', 'Bushwick', 'Kensington', 'Astoria', 'Bayside',\n",
       "       'New Brighton', 'Cobble Hill', 'East New York', 'Gerritsen Beach',\n",
       "       'Midtown West', 'North Corona', 'Two Bridges', 'Dyker Heights',\n",
       "       'Parkchester', 'Chelsea', 'Woodside', 'Clifton',\n",
       "       'Concourse Village', 'Lower East Side', 'Huguenot',\n",
       "       'College Point', 'St. Albans', 'South Beach', 'Emerson Hill',\n",
       "       'Norwood', 'Kips Bay', 'Greenpoint', 'Financial District'],\n",
       "      dtype=object)"
      ]
     },
     "execution_count": 175,
     "metadata": {},
     "output_type": "execute_result"
    }
   ],
   "source": [
    "df2['SUBLOCALITY'].unique()\n"
   ]
  },
  {
   "cell_type": "code",
<<<<<<< HEAD
   "execution_count": 59,

=======
   "execution_count": 176,
>>>>>>> Marwa
   "metadata": {},
   "outputs": [],
   "source": [
    "# Clean sublocality and state columns in both datasets\n",
    "df1['SUBLOCALITY'] = df1['SUBLOCALITY'].str.strip().str.lower()\n",
    "df1['STATE'] = df1['STATE'].str.strip().str.lower()\n",
    "df2['SUBLOCALITY'] = df2['SUBLOCALITY'].str.strip().str.lower()\n",
    "df2['STATE'] = df2['STATE'].str.strip().str.lower()\n",
    "\n"
   ]
  },
  {
   "cell_type": "code",
<<<<<<< HEAD
<<<<<<< HEAD
   "execution_count": 60,

=======
   "execution_count": 177,
>>>>>>> Marwa
   "metadata": {},
   "outputs": [],
   "source": [
    "# Drop duplicates in the key column\n",
    "df1 = df1.drop_duplicates(subset=['LATITUDE', 'LONGITUDE'])\n",
    "df2 = df2.drop_duplicates(subset=['LATITUDE', 'LONGITUDE'])"
   ]
  },
  {
   "cell_type": "code",
<<<<<<< HEAD
<<<<<<< HEAD
   "execution_count": 61,

=======
   "execution_count": 216,
>>>>>>> Marwa
   "metadata": {},
   "outputs": [],
   "source": [
    "# Merge datasets on LATITUDE and LONGITUDE\n",
    "merged_df = pd.merge(df1, df2, on=['LATITUDE', 'LONGITUDE'], how='inner', suffixes=('_orig', '_ext'))"
   ]
  },
  {
   "cell_type": "code",
   "execution_count": 217,
   "metadata": {},
   "outputs": [
    {
     "data": {
      "text/html": [
       "<div>\n",
       "<style scoped>\n",
       "    .dataframe tbody tr th:only-of-type {\n",
       "        vertical-align: middle;\n",
       "    }\n",
       "\n",
       "    .dataframe tbody tr th {\n",
       "        vertical-align: top;\n",
       "    }\n",
       "\n",
       "    .dataframe thead th {\n",
       "        text-align: right;\n",
       "    }\n",
       "</style>\n",
       "<table border=\"1\" class=\"dataframe\">\n",
       "  <thead>\n",
       "    <tr style=\"text-align: right;\">\n",
       "      <th></th>\n",
       "      <th>PRICE</th>\n",
       "      <th>BEDS</th>\n",
       "      <th>BATH</th>\n",
       "      <th>PROPERTYSQFT</th>\n",
       "      <th>LATITUDE</th>\n",
       "      <th>LONGITUDE</th>\n",
       "    </tr>\n",
       "  </thead>\n",
       "  <tbody>\n",
       "    <tr>\n",
       "      <th>count</th>\n",
       "      <td>4.200000e+03</td>\n",
       "      <td>4200.000000</td>\n",
       "      <td>4200.000000</td>\n",
       "      <td>4200.000000</td>\n",
       "      <td>4200.000000</td>\n",
       "      <td>4200.000000</td>\n",
       "    </tr>\n",
       "    <tr>\n",
       "      <th>mean</th>\n",
       "      <td>2.476243e+06</td>\n",
       "      <td>3.475476</td>\n",
       "      <td>2.437512</td>\n",
       "      <td>2225.780289</td>\n",
       "      <td>40.711757</td>\n",
       "      <td>-73.942486</td>\n",
       "    </tr>\n",
       "    <tr>\n",
       "      <th>std</th>\n",
       "      <td>3.350511e+07</td>\n",
       "      <td>2.694294</td>\n",
       "      <td>2.018071</td>\n",
       "      <td>2365.112171</td>\n",
       "      <td>0.088237</td>\n",
       "      <td>0.102532</td>\n",
       "    </tr>\n",
       "    <tr>\n",
       "      <th>min</th>\n",
       "      <td>3.225000e+03</td>\n",
       "      <td>1.000000</td>\n",
       "      <td>0.000000</td>\n",
       "      <td>230.000000</td>\n",
       "      <td>40.499546</td>\n",
       "      <td>-74.253033</td>\n",
       "    </tr>\n",
       "    <tr>\n",
       "      <th>25%</th>\n",
       "      <td>5.300000e+05</td>\n",
       "      <td>2.000000</td>\n",
       "      <td>1.000000</td>\n",
       "      <td>1232.000000</td>\n",
       "      <td>40.636832</td>\n",
       "      <td>-73.988216</td>\n",
       "    </tr>\n",
       "    <tr>\n",
       "      <th>50%</th>\n",
       "      <td>8.499985e+05</td>\n",
       "      <td>3.000000</td>\n",
       "      <td>2.000000</td>\n",
       "      <td>2184.207862</td>\n",
       "      <td>40.723250</td>\n",
       "      <td>-73.948818</td>\n",
       "    </tr>\n",
       "    <tr>\n",
       "      <th>75%</th>\n",
       "      <td>1.499999e+06</td>\n",
       "      <td>4.000000</td>\n",
       "      <td>3.000000</td>\n",
       "      <td>2184.207862</td>\n",
       "      <td>40.771534</td>\n",
       "      <td>-73.869225</td>\n",
       "    </tr>\n",
       "    <tr>\n",
       "      <th>max</th>\n",
       "      <td>2.147484e+09</td>\n",
       "      <td>50.000000</td>\n",
       "      <td>50.000000</td>\n",
       "      <td>65535.000000</td>\n",
       "      <td>40.912729</td>\n",
       "      <td>-73.702450</td>\n",
       "    </tr>\n",
       "  </tbody>\n",
       "</table>\n",
       "</div>"
      ],
      "text/plain": [
       "              PRICE         BEDS         BATH  PROPERTYSQFT     LATITUDE  \\\n",
       "count  4.200000e+03  4200.000000  4200.000000   4200.000000  4200.000000   \n",
       "mean   2.476243e+06     3.475476     2.437512   2225.780289    40.711757   \n",
       "std    3.350511e+07     2.694294     2.018071   2365.112171     0.088237   \n",
       "min    3.225000e+03     1.000000     0.000000    230.000000    40.499546   \n",
       "25%    5.300000e+05     2.000000     1.000000   1232.000000    40.636832   \n",
       "50%    8.499985e+05     3.000000     2.000000   2184.207862    40.723250   \n",
       "75%    1.499999e+06     4.000000     3.000000   2184.207862    40.771534   \n",
       "max    2.147484e+09    50.000000    50.000000  65535.000000    40.912729   \n",
       "\n",
       "         LONGITUDE  \n",
       "count  4200.000000  \n",
       "mean    -73.942486  \n",
       "std       0.102532  \n",
       "min     -74.253033  \n",
       "25%     -73.988216  \n",
       "50%     -73.948818  \n",
       "75%     -73.869225  \n",
       "max     -73.702450  "
      ]
     },
     "execution_count": 217,
     "metadata": {},
     "output_type": "execute_result"
    }
   ],
   "source": [
    "#display data structure after merging\n",
    "merged_df.describe()"
   ]
  },
  {
   "cell_type": "code",
<<<<<<< HEAD
   "execution_count": 63,

=======
   "execution_count": 218,
>>>>>>> Marwa
   "metadata": {},
   "outputs": [
    {
     "name": "stdout",
     "output_type": "stream",
     "text": [
      "['STATE_orig', 'LOCALITY_orig', 'SUBLOCALITY_orig', 'STATE_ext', 'LOCALITY_ext', 'SUBLOCALITY_ext']\n"
     ]
    }
   ],
   "source": [
    "#Inspect Overlapping Columns\n",
    "\n",
    "duplicate_cols = [col for col in merged_df.columns if col.endswith('_orig') or col.endswith('_ext')]\n",
    "print(duplicate_cols)\n"
   ]
  },
  {
   "cell_type": "code",
<<<<<<< HEAD
<<<<<<< HEAD
   "execution_count": 64,

=======
   "execution_count": 219,
>>>>>>> Marwa
   "metadata": {},
   "outputs": [],
   "source": [
    "merged_df = merged_df.drop(columns=['STATE_orig', 'LOCALITY_orig', 'SUBLOCALITY_orig'])"
   ]
  },
  {
   "cell_type": "code",
<<<<<<< HEAD
<<<<<<< HEAD
   "execution_count": 65,

=======
   "execution_count": 220,
>>>>>>> Marwa
   "metadata": {},
   "outputs": [
    {
     "data": {
      "text/plain": [
       "Index(['BROKERTITLE', 'TYPE', 'PRICE', 'BEDS', 'BATH', 'PROPERTYSQFT',\n",
       "       'ADDRESS', 'MAIN_ADDRESS', 'ADMINISTRATIVE_AREA_LEVEL_2', 'STREET_NAME',\n",
       "       'LONG_NAME', 'FORMATTED_ADDRESS', 'LATITUDE', 'LONGITUDE', 'STATE_ext',\n",
       "       'LOCALITY_ext', 'SUBLOCALITY_ext', 'POSTCODE', 'PROPERTY_CATEGORY'],\n",
       "      dtype='object')"
      ]
     },
<<<<<<< HEAD
<<<<<<< HEAD
     "execution_count": 65,

=======
     "execution_count": 220,
>>>>>>> Marwa
     "metadata": {},
     "output_type": "execute_result"
    }
   ],
   "source": [
    "#check thecolumns names\n",
    "merged_df.columns"
   ]
  },
  {
   "cell_type": "code",
<<<<<<< HEAD
<<<<<<< HEAD
   "execution_count": 66,

=======
   "execution_count": 221,
>>>>>>> Marwa
   "metadata": {},
   "outputs": [],
   "source": [
    "# Select relevant columns\n",
    "selected_columns = [\n",
    "    'PRICE', 'BEDS', 'BATH', 'PROPERTYSQFT',\n",
    "    'PROPERTY_CATEGORY','TYPE', 'SUBLOCALITY_ext','POSTCODE','STATE_ext','LATITUDE', 'LONGITUDE'\n",
    "]\n",
    "merged_df = merged_df[selected_columns]"
   ]
  },
  {
   "cell_type": "code",
<<<<<<< HEAD
<<<<<<< HEAD
   "execution_count": 67,

=======
   "execution_count": 222,
>>>>>>> Marwa
   "metadata": {},
   "outputs": [
    {
     "data": {
      "text/plain": [
       "(4200, 11)"
      ]
     },
<<<<<<< HEAD
<<<<<<< HEAD
     "execution_count": 67,

=======
     "execution_count": 222,
>>>>>>> Marwa
     "metadata": {},
     "output_type": "execute_result"
    }
   ],
   "source": [
    "#check the data shape\n",
    "merged_df.shape"
   ]
  },
  {
   "cell_type": "code",
<<<<<<< HEAD
<<<<<<< HEAD
   "execution_count": 68,

=======
   "execution_count": 223,
>>>>>>> Marwa
   "metadata": {},
   "outputs": [
    {
     "data": {
      "text/html": [
       "<div>\n",
       "<style scoped>\n",
       "    .dataframe tbody tr th:only-of-type {\n",
       "        vertical-align: middle;\n",
       "    }\n",
       "\n",
       "    .dataframe tbody tr th {\n",
       "        vertical-align: top;\n",
       "    }\n",
       "\n",
       "    .dataframe thead th {\n",
       "        text-align: right;\n",
       "    }\n",
       "</style>\n",
       "<table border=\"1\" class=\"dataframe\">\n",
       "  <thead>\n",
       "    <tr style=\"text-align: right;\">\n",
       "      <th></th>\n",
       "      <th>PRICE</th>\n",
       "      <th>BEDS</th>\n",
       "      <th>BATH</th>\n",
       "      <th>PROPERTYSQFT</th>\n",
       "      <th>PROPERTY_CATEGORY</th>\n",
       "      <th>TYPE</th>\n",
       "      <th>SUBLOCALITY_ext</th>\n",
       "      <th>POSTCODE</th>\n",
       "      <th>STATE_ext</th>\n",
       "      <th>LATITUDE</th>\n",
       "      <th>LONGITUDE</th>\n",
       "    </tr>\n",
       "  </thead>\n",
       "  <tbody>\n",
       "    <tr>\n",
       "      <th>0</th>\n",
       "      <td>315000</td>\n",
       "      <td>2</td>\n",
       "      <td>2.000000</td>\n",
       "      <td>1400.0</td>\n",
       "      <td>catering.restaurant</td>\n",
       "      <td>Condo for sale</td>\n",
       "      <td>manhattan</td>\n",
       "      <td>10022</td>\n",
       "      <td>new york</td>\n",
       "      <td>40.761255</td>\n",
       "      <td>-73.974483</td>\n",
       "    </tr>\n",
       "    <tr>\n",
       "      <th>1</th>\n",
       "      <td>195000000</td>\n",
       "      <td>7</td>\n",
       "      <td>10.000000</td>\n",
       "      <td>17545.0</td>\n",
       "      <td>building.residential</td>\n",
       "      <td>Condo for sale</td>\n",
       "      <td>manhattan</td>\n",
       "      <td>10019</td>\n",
       "      <td>new york</td>\n",
       "      <td>40.766393</td>\n",
       "      <td>-73.980991</td>\n",
       "    </tr>\n",
       "    <tr>\n",
       "      <th>2</th>\n",
       "      <td>260000</td>\n",
       "      <td>4</td>\n",
       "      <td>2.000000</td>\n",
       "      <td>2015.0</td>\n",
       "      <td>building.residential</td>\n",
       "      <td>House for sale</td>\n",
       "      <td>staten island</td>\n",
       "      <td>10312</td>\n",
       "      <td>new york</td>\n",
       "      <td>40.541805</td>\n",
       "      <td>-74.196109</td>\n",
       "    </tr>\n",
       "    <tr>\n",
       "      <th>3</th>\n",
       "      <td>69000</td>\n",
       "      <td>3</td>\n",
       "      <td>1.000000</td>\n",
       "      <td>445.0</td>\n",
       "      <td>catering.bar</td>\n",
       "      <td>Condo for sale</td>\n",
       "      <td>manhattan</td>\n",
       "      <td>10022</td>\n",
       "      <td>new york</td>\n",
       "      <td>40.761398</td>\n",
       "      <td>-73.974613</td>\n",
       "    </tr>\n",
       "    <tr>\n",
       "      <th>4</th>\n",
       "      <td>55000000</td>\n",
       "      <td>7</td>\n",
       "      <td>2.373861</td>\n",
       "      <td>14175.0</td>\n",
       "      <td>building</td>\n",
       "      <td>Townhouse for sale</td>\n",
       "      <td>manhattan</td>\n",
       "      <td>10065</td>\n",
       "      <td>new york</td>\n",
       "      <td>40.767224</td>\n",
       "      <td>-73.969856</td>\n",
       "    </tr>\n",
       "  </tbody>\n",
       "</table>\n",
       "</div>"
      ],
      "text/plain": [
       "       PRICE  BEDS       BATH  PROPERTYSQFT     PROPERTY_CATEGORY  \\\n",
       "0     315000     2   2.000000        1400.0   catering.restaurant   \n",
       "1  195000000     7  10.000000       17545.0  building.residential   \n",
       "2     260000     4   2.000000        2015.0  building.residential   \n",
       "3      69000     3   1.000000         445.0          catering.bar   \n",
       "4   55000000     7   2.373861       14175.0              building   \n",
       "\n",
       "                 TYPE SUBLOCALITY_ext POSTCODE STATE_ext   LATITUDE  LONGITUDE  \n",
       "0      Condo for sale       manhattan    10022  new york  40.761255 -73.974483  \n",
       "1      Condo for sale       manhattan    10019  new york  40.766393 -73.980991  \n",
       "2      House for sale   staten island    10312  new york  40.541805 -74.196109  \n",
       "3      Condo for sale       manhattan    10022  new york  40.761398 -73.974613  \n",
       "4  Townhouse for sale       manhattan    10065  new york  40.767224 -73.969856  "
      ]
     },
<<<<<<< HEAD
<<<<<<< HEAD
     "execution_count": 68,

=======
     "execution_count": 223,
>>>>>>> Marwa
     "metadata": {},
     "output_type": "execute_result"
    }
   ],
   "source": [
    "#check the merged data\n",
    "merged_df.head()\n"
   ]
  },
  {
   "cell_type": "code",
<<<<<<< HEAD
<<<<<<< HEAD
   "execution_count": 69,

=======
   "execution_count": 224,
>>>>>>> Marwa
   "metadata": {},
   "outputs": [
    {
     "data": {
      "text/html": [
       "<div>\n",
       "<style scoped>\n",
       "    .dataframe tbody tr th:only-of-type {\n",
       "        vertical-align: middle;\n",
       "    }\n",
       "\n",
       "    .dataframe tbody tr th {\n",
       "        vertical-align: top;\n",
       "    }\n",
       "\n",
       "    .dataframe thead th {\n",
       "        text-align: right;\n",
       "    }\n",
       "</style>\n",
       "<table border=\"1\" class=\"dataframe\">\n",
       "  <thead>\n",
       "    <tr style=\"text-align: right;\">\n",
       "      <th></th>\n",
       "      <th>PRICE</th>\n",
       "      <th>BEDS</th>\n",
       "      <th>BATH</th>\n",
       "      <th>PROPERTYSQFT</th>\n",
       "      <th>PROPERTY_CATEGORY</th>\n",
       "      <th>TYPE</th>\n",
       "      <th>SUBLOCALITY_ext</th>\n",
       "      <th>POSTCODE</th>\n",
       "      <th>STATE_ext</th>\n",
       "      <th>LATITUDE</th>\n",
       "      <th>LONGITUDE</th>\n",
       "      <th>PRICE_PER_SQFT</th>\n",
       "    </tr>\n",
       "  </thead>\n",
       "  <tbody>\n",
       "    <tr>\n",
       "      <th>0</th>\n",
       "      <td>315000</td>\n",
       "      <td>2</td>\n",
       "      <td>2.000000</td>\n",
       "      <td>1400.0</td>\n",
       "      <td>catering.restaurant</td>\n",
       "      <td>condo</td>\n",
       "      <td>manhattan</td>\n",
       "      <td>10022</td>\n",
       "      <td>new york</td>\n",
       "      <td>40.761255</td>\n",
       "      <td>-73.974483</td>\n",
       "      <td>225.000000</td>\n",
       "    </tr>\n",
       "    <tr>\n",
       "      <th>1</th>\n",
       "      <td>195000000</td>\n",
       "      <td>7</td>\n",
       "      <td>10.000000</td>\n",
       "      <td>17545.0</td>\n",
       "      <td>building.residential</td>\n",
       "      <td>condo</td>\n",
       "      <td>manhattan</td>\n",
       "      <td>10019</td>\n",
       "      <td>new york</td>\n",
       "      <td>40.766393</td>\n",
       "      <td>-73.980991</td>\n",
       "      <td>11114.277572</td>\n",
       "    </tr>\n",
       "    <tr>\n",
       "      <th>2</th>\n",
       "      <td>260000</td>\n",
       "      <td>4</td>\n",
       "      <td>2.000000</td>\n",
       "      <td>2015.0</td>\n",
       "      <td>building.residential</td>\n",
       "      <td>house</td>\n",
       "      <td>staten island</td>\n",
       "      <td>10312</td>\n",
       "      <td>new york</td>\n",
       "      <td>40.541805</td>\n",
       "      <td>-74.196109</td>\n",
       "      <td>129.032258</td>\n",
       "    </tr>\n",
       "    <tr>\n",
       "      <th>3</th>\n",
       "      <td>69000</td>\n",
       "      <td>3</td>\n",
       "      <td>1.000000</td>\n",
       "      <td>445.0</td>\n",
       "      <td>catering.bar</td>\n",
       "      <td>condo</td>\n",
       "      <td>manhattan</td>\n",
       "      <td>10022</td>\n",
       "      <td>new york</td>\n",
       "      <td>40.761398</td>\n",
       "      <td>-73.974613</td>\n",
       "      <td>155.056180</td>\n",
       "    </tr>\n",
       "    <tr>\n",
       "      <th>4</th>\n",
       "      <td>55000000</td>\n",
       "      <td>7</td>\n",
       "      <td>2.373861</td>\n",
       "      <td>14175.0</td>\n",
       "      <td>building</td>\n",
       "      <td>townhouse</td>\n",
       "      <td>manhattan</td>\n",
       "      <td>10065</td>\n",
       "      <td>new york</td>\n",
       "      <td>40.767224</td>\n",
       "      <td>-73.969856</td>\n",
       "      <td>3880.070547</td>\n",
       "    </tr>\n",
       "  </tbody>\n",
       "</table>\n",
       "</div>"
      ],
      "text/plain": [
       "       PRICE  BEDS       BATH  PROPERTYSQFT     PROPERTY_CATEGORY       TYPE  \\\n",
       "0     315000     2   2.000000        1400.0   catering.restaurant      condo   \n",
       "1  195000000     7  10.000000       17545.0  building.residential      condo   \n",
       "2     260000     4   2.000000        2015.0  building.residential      house   \n",
       "3      69000     3   1.000000         445.0          catering.bar      condo   \n",
       "4   55000000     7   2.373861       14175.0              building  townhouse   \n",
       "\n",
       "  SUBLOCALITY_ext POSTCODE STATE_ext   LATITUDE  LONGITUDE  PRICE_PER_SQFT  \n",
       "0       manhattan    10022  new york  40.761255 -73.974483      225.000000  \n",
       "1       manhattan    10019  new york  40.766393 -73.980991    11114.277572  \n",
       "2   staten island    10312  new york  40.541805 -74.196109      129.032258  \n",
       "3       manhattan    10022  new york  40.761398 -73.974613      155.056180  \n",
       "4       manhattan    10065  new york  40.767224 -73.969856     3880.070547  "
      ]
     },
<<<<<<< HEAD
<<<<<<< HEAD
     "execution_count": 69,

=======
     "execution_count": 224,
>>>>>>> Marwa
     "metadata": {},
     "output_type": "execute_result"
    }
   ],
   "source": [
    "# Calculate price per square foot\n",
    "merged_df['PRICE_PER_SQFT'] = merged_df['PRICE'] / merged_df['PROPERTYSQFT']\n",
    "\n",
    "# Standardize type column\n",
    "merged_df['TYPE'] = merged_df['TYPE'].str.lower().str.replace(' for sale', '', regex=False)\n",
    "\n",
    "# Display cleaned and enhanced DataFrame\n",
    "merged_df.head()"
   ]
  },
  {
<<<<<<< HEAD
<<<<<<< HEAD

=======
   "cell_type": "code",
   "execution_count": 186,
   "metadata": {},
   "outputs": [],
   "source": [
    "# # Standardize column names\n",
    "# merged_df.columns = merged_df.columns.str.lower().str.replace(' ', '_')\n",
    "# #check changes\n",
    "# merged_df.columns"
   ]
  },
  {
>>>>>>> Marwa
   "cell_type": "markdown",
   "metadata": {},
   "source": [
    "Check for Missing Values:"
   ]
  },
  {
   "cell_type": "code",
<<<<<<< HEAD
<<<<<<< HEAD
   "execution_count": 70,

=======
   "execution_count": 225,
>>>>>>> Marwa
   "metadata": {},
   "outputs": [
    {
     "name": "stdout",
     "output_type": "stream",
     "text": [
      "Missing Data by Column:\n"
     ]
    },
    {
     "data": {
      "text/plain": [
       "PRICE                  0\n",
       "BEDS                   0\n",
       "BATH                   0\n",
       "PROPERTYSQFT           0\n",
       "PROPERTY_CATEGORY    641\n",
       "TYPE                   0\n",
       "SUBLOCALITY_ext        0\n",
       "POSTCODE               0\n",
       "STATE_ext              0\n",
       "LATITUDE               0\n",
       "LONGITUDE              0\n",
       "PRICE_PER_SQFT         0\n",
       "dtype: int64"
      ]
     },
<<<<<<< HEAD
<<<<<<< HEAD
     "execution_count": 70,

=======
     "execution_count": 225,
>>>>>>> Marwa
     "metadata": {},
     "output_type": "execute_result"
    }
   ],
   "source": [
    "# Check for missing values in the selected columns\n",
    "missing_data = merged_df.isnull().sum()\n",
    "print(\"Missing Data by Column:\")\n",
    "missing_data\n"
   ]
  },
  {
   "cell_type": "markdown",
   "metadata": {},
   "source": [
    "Handle Missing Values:"
   ]
  },
  {
   "cell_type": "code",
<<<<<<< HEAD
   "execution_count": 71,

=======
   "execution_count": 226,
>>>>>>> Marwa
   "metadata": {},
   "outputs": [],
   "source": [
    "#drope the missing values\n",
    "merged_df = merged_df.dropna(how='any')\n"
   ]
  },
  {
   "cell_type": "code",
<<<<<<< HEAD
<<<<<<< HEAD
   "execution_count": 72,

=======
   "execution_count": 227,
>>>>>>> Marwa
   "metadata": {},
   "outputs": [
    {
     "data": {
      "text/plain": [
       "Index(['PRICE', 'BEDS', 'BATH', 'PROPERTYSQFT', 'PROPERTY_CATEGORY', 'TYPE',\n",
       "       'SUBLOCALITY_ext', 'POSTCODE', 'STATE_ext', 'LATITUDE', 'LONGITUDE',\n",
       "       'PRICE_PER_SQFT'],\n",
       "      dtype='object')"
      ]
     },
<<<<<<< HEAD
<<<<<<< HEAD
     "execution_count": 72,

=======
     "execution_count": 227,
>>>>>>> Marwa
     "metadata": {},
     "output_type": "execute_result"
    }
   ],
   "source": [
    "merged_df.columns"
   ]
  },
  {
   "cell_type": "code",
<<<<<<< HEAD
<<<<<<< HEAD
   "execution_count": 73,

=======
   "execution_count": 228,
>>>>>>> Marwa
   "metadata": {},
   "outputs": [
    {
     "data": {
      "text/plain": [
       "PRICE                  int64\n",
       "BEDS                   int64\n",
       "BATH                 float64\n",
       "PROPERTYSQFT         float64\n",
       "PROPERTY_CATEGORY     object\n",
       "TYPE                  object\n",
       "SUBLOCALITY_ext       object\n",
       "POSTCODE              object\n",
       "STATE_ext             object\n",
       "LATITUDE             float64\n",
       "LONGITUDE            float64\n",
       "PRICE_PER_SQFT       float64\n",
       "dtype: object"
      ]
     },
<<<<<<< HEAD
<<<<<<< HEAD
     "execution_count": 73,

=======
     "execution_count": 228,
>>>>>>> Marwa
     "metadata": {},
     "output_type": "execute_result"
    }
   ],
   "source": [
    "#chech data type\n",
    "merged_df.dtypes"
   ]
  },
  {
   "cell_type": "code",
<<<<<<< HEAD
<<<<<<< HEAD
   "execution_count": 74,

=======
   "execution_count": null,
>>>>>>> Marwa
   "metadata": {},
   "outputs": [],
   "source": [
    "# Check for whitespace\n",
    "merged_df.columns = merged_df.columns.str.strip()"
   ]
  },
  {
   "cell_type": "code",
<<<<<<< HEAD
<<<<<<< HEAD
   "execution_count": 75,

=======
   "execution_count": 230,
>>>>>>> Marwa
   "metadata": {},
   "outputs": [
    {
     "name": "stdout",
     "output_type": "stream",
     "text": [
      "Number of duplicate rows: 0\n"
     ]
    }
   ],
   "source": [
    "# Check for duplicate rows\n",
    "duplicates = merged_df.duplicated().sum()\n",
    "print(f\"Number of duplicate rows: {duplicates}\")\n",
    "\n",
    "# Remove duplicates\n",
    "merged_df = merged_df.drop_duplicates()\n"
   ]
  },
  {
   "cell_type": "code",
<<<<<<< HEAD
<<<<<<< HEAD
   "execution_count": 76,

=======
   "execution_count": 231,
>>>>>>> Marwa
   "metadata": {},
   "outputs": [
    {
     "data": {
      "text/html": [
       "<div>\n",
       "<style scoped>\n",
       "    .dataframe tbody tr th:only-of-type {\n",
       "        vertical-align: middle;\n",
       "    }\n",
       "\n",
       "    .dataframe tbody tr th {\n",
       "        vertical-align: top;\n",
       "    }\n",
       "\n",
       "    .dataframe thead th {\n",
       "        text-align: right;\n",
       "    }\n",
       "</style>\n",
       "<table border=\"1\" class=\"dataframe\">\n",
       "  <thead>\n",
       "    <tr style=\"text-align: right;\">\n",
       "      <th></th>\n",
       "      <th>PRICE</th>\n",
       "      <th>BEDS</th>\n",
       "      <th>BATH</th>\n",
       "      <th>PROPERTYSQFT</th>\n",
       "      <th>PROPERTY_CATEGORY</th>\n",
       "      <th>TYPE</th>\n",
       "      <th>SUBLOCALITY_ext</th>\n",
       "      <th>POSTCODE</th>\n",
       "      <th>STATE_ext</th>\n",
       "      <th>LATITUDE</th>\n",
       "      <th>LONGITUDE</th>\n",
       "      <th>PRICE_PER_SQFT</th>\n",
       "    </tr>\n",
       "  </thead>\n",
       "  <tbody>\n",
       "    <tr>\n",
       "      <th>0</th>\n",
       "      <td>315000</td>\n",
       "      <td>2</td>\n",
       "      <td>2.0</td>\n",
       "      <td>1400.000000</td>\n",
       "      <td>catering.restaurant</td>\n",
       "      <td>condo</td>\n",
       "      <td>manhattan</td>\n",
       "      <td>10022</td>\n",
       "      <td>new york</td>\n",
       "      <td>40.761255</td>\n",
       "      <td>-73.974483</td>\n",
       "      <td>225.000000</td>\n",
       "    </tr>\n",
       "    <tr>\n",
       "      <th>2</th>\n",
       "      <td>260000</td>\n",
       "      <td>4</td>\n",
       "      <td>2.0</td>\n",
       "      <td>2015.000000</td>\n",
       "      <td>building.residential</td>\n",
       "      <td>house</td>\n",
       "      <td>staten island</td>\n",
       "      <td>10312</td>\n",
       "      <td>new york</td>\n",
       "      <td>40.541805</td>\n",
       "      <td>-74.196109</td>\n",
       "      <td>129.032258</td>\n",
       "    </tr>\n",
       "    <tr>\n",
       "      <th>3</th>\n",
       "      <td>69000</td>\n",
       "      <td>3</td>\n",
       "      <td>1.0</td>\n",
       "      <td>445.000000</td>\n",
       "      <td>catering.bar</td>\n",
       "      <td>condo</td>\n",
       "      <td>manhattan</td>\n",
       "      <td>10022</td>\n",
       "      <td>new york</td>\n",
       "      <td>40.761398</td>\n",
       "      <td>-73.974613</td>\n",
       "      <td>155.056180</td>\n",
       "    </tr>\n",
       "    <tr>\n",
       "      <th>6</th>\n",
       "      <td>899500</td>\n",
       "      <td>2</td>\n",
       "      <td>2.0</td>\n",
       "      <td>2184.207862</td>\n",
       "      <td>building</td>\n",
       "      <td>condo</td>\n",
       "      <td>manhattan</td>\n",
       "      <td>10027</td>\n",
       "      <td>new york</td>\n",
       "      <td>40.809448</td>\n",
       "      <td>-73.946777</td>\n",
       "      <td>411.819779</td>\n",
       "    </tr>\n",
       "    <tr>\n",
       "      <th>8</th>\n",
       "      <td>265000</td>\n",
       "      <td>1</td>\n",
       "      <td>1.0</td>\n",
       "      <td>750.000000</td>\n",
       "      <td>building.residential</td>\n",
       "      <td>co-op</td>\n",
       "      <td>the bronx</td>\n",
       "      <td>10473</td>\n",
       "      <td>new york</td>\n",
       "      <td>40.821586</td>\n",
       "      <td>-73.874089</td>\n",
       "      <td>353.333333</td>\n",
       "    </tr>\n",
       "  </tbody>\n",
       "</table>\n",
       "</div>"
      ],
      "text/plain": [
       "    PRICE  BEDS  BATH  PROPERTYSQFT     PROPERTY_CATEGORY   TYPE  \\\n",
       "0  315000     2   2.0   1400.000000   catering.restaurant  condo   \n",
       "2  260000     4   2.0   2015.000000  building.residential  house   \n",
       "3   69000     3   1.0    445.000000          catering.bar  condo   \n",
       "6  899500     2   2.0   2184.207862              building  condo   \n",
       "8  265000     1   1.0    750.000000  building.residential  co-op   \n",
       "\n",
       "  SUBLOCALITY_ext POSTCODE STATE_ext   LATITUDE  LONGITUDE  PRICE_PER_SQFT  \n",
       "0       manhattan    10022  new york  40.761255 -73.974483      225.000000  \n",
       "2   staten island    10312  new york  40.541805 -74.196109      129.032258  \n",
       "3       manhattan    10022  new york  40.761398 -73.974613      155.056180  \n",
       "6       manhattan    10027  new york  40.809448 -73.946777      411.819779  \n",
       "8       the bronx    10473  new york  40.821586 -73.874089      353.333333  "
      ]
     },
<<<<<<< HEAD
<<<<<<< HEAD
     "execution_count": 76,

=======
     "execution_count": 231,
>>>>>>> Marwa
     "metadata": {},
     "output_type": "execute_result"
    }
   ],
   "source": [
    "# Define a function to remove outliers using the IQR method\n",
    "def remove_outliers(df, column):\n",
    "    Q1 = df[column].quantile(0.25)  # First quartile\n",
    "    Q3 = df[column].quantile(0.75)  # Third quartile\n",
    "    IQR = Q3 - Q1  # Interquartile range\n",
    "    lower_bound = Q1 - 1.5 * IQR\n",
    "    upper_bound = Q3 + 1.5 * IQR\n",
    "    # Return the dataframe after filtering out outliers\n",
    "    return df[(df[column] >= lower_bound) & (df[column] <= upper_bound)]\n",
    "\n",
    "# List of columns to clean\n",
    "columns_to_clean = ['PRICE', 'BEDS', 'BATH', 'PROPERTYSQFT', 'PRICE_PER_SQFT']\n",
    "\n",
    "# Clean outliers for the relevant numerical columns using a loop\n",
    "for col in columns_to_clean:\n",
    "    merged_df = remove_outliers(merged_df, col)\n",
    "\n",
    "# Display the cleaned dataset\n",
    "merged_df.head()\n"
   ]
  },
  {
   "cell_type": "code",
<<<<<<< HEAD
<<<<<<< HEAD
   "execution_count": 77,

=======
   "execution_count": 232,
>>>>>>> Marwa
   "metadata": {},
   "outputs": [
    {
     "data": {
      "text/plain": [
       "PRICE                  int64\n",
       "BEDS                   int64\n",
       "BATH                 float64\n",
       "PROPERTYSQFT         float64\n",
       "PROPERTY_CATEGORY     object\n",
       "TYPE                  object\n",
       "SUBLOCALITY_ext       object\n",
       "POSTCODE              object\n",
       "STATE_ext             object\n",
       "LATITUDE             float64\n",
       "LONGITUDE            float64\n",
       "PRICE_PER_SQFT       float64\n",
       "dtype: object"
      ]
     },
<<<<<<< HEAD
<<<<<<< HEAD
     "execution_count": 77,

=======
     "execution_count": 232,
>>>>>>> Marwa
     "metadata": {},
     "output_type": "execute_result"
    }
   ],
   "source": [
    "# check data type\n",
    "merged_df.dtypes"
   ]
  },
  {
   "cell_type": "code",
<<<<<<< HEAD
<<<<<<< HEAD
   "execution_count": 78,

=======
   "execution_count": 233,
>>>>>>> Marwa
   "metadata": {},
   "outputs": [],
   "source": [
    "#If any column names have leading or trailing spaces\n",
    "merged_df.columns = merged_df.columns.str.strip()\n"
   ]
  },
  {
   "cell_type": "code",
   "execution_count": 234,
   "metadata": {},
   "outputs": [],
   "source": [
<<<<<<< HEAD

=======
>>>>>>> Marwa
    "# Correct Inconsistent Value\n",
    "merged_df['STATE_ext'] = merged_df['STATE_ext'].str.title()\n",
    "merged_df['SUBLOCALITY_ext'] = merged_df['SUBLOCALITY_ext'].str.title()\n"
   ]
  },
  {
   "cell_type": "code",
<<<<<<< HEAD
<<<<<<< HEAD
   "execution_count": 80,

=======
   "execution_count": 197,
>>>>>>> Marwa
   "metadata": {},
   "outputs": [
    {
     "data": {
      "text/html": [
       "<div>\n",
       "<style scoped>\n",
       "    .dataframe tbody tr th:only-of-type {\n",
       "        vertical-align: middle;\n",
       "    }\n",
       "\n",
       "    .dataframe tbody tr th {\n",
       "        vertical-align: top;\n",
       "    }\n",
       "\n",
       "    .dataframe thead th {\n",
       "        text-align: right;\n",
       "    }\n",
       "</style>\n",
       "<table border=\"1\" class=\"dataframe\">\n",
       "  <thead>\n",
       "    <tr style=\"text-align: right;\">\n",
       "      <th></th>\n",
       "      <th>PRICE</th>\n",
       "      <th>BEDS</th>\n",
       "      <th>BATH</th>\n",
       "      <th>PROPERTYSQFT</th>\n",
       "      <th>PROPERTY_CATEGORY</th>\n",
       "      <th>TYPE</th>\n",
       "      <th>SUBLOCALITY_ext</th>\n",
       "      <th>POSTCODE</th>\n",
       "      <th>STATE_ext</th>\n",
       "      <th>LATITUDE</th>\n",
       "      <th>LONGITUDE</th>\n",
       "      <th>PRICE_PER_SQFT</th>\n",
       "    </tr>\n",
       "  </thead>\n",
       "  <tbody>\n",
       "    <tr>\n",
       "      <th>0</th>\n",
       "      <td>315000</td>\n",
       "      <td>2</td>\n",
       "      <td>2.0</td>\n",
       "      <td>1400.000000</td>\n",
       "      <td>catering.restaurant</td>\n",
       "      <td>condo</td>\n",
       "      <td>Manhattan</td>\n",
       "      <td>10022</td>\n",
       "      <td>New York</td>\n",
       "      <td>40.761255</td>\n",
       "      <td>-73.974483</td>\n",
       "      <td>225.000000</td>\n",
       "    </tr>\n",
       "    <tr>\n",
       "      <th>2</th>\n",
       "      <td>260000</td>\n",
       "      <td>4</td>\n",
       "      <td>2.0</td>\n",
       "      <td>2015.000000</td>\n",
       "      <td>building.residential</td>\n",
       "      <td>house</td>\n",
       "      <td>Staten Island</td>\n",
       "      <td>10312</td>\n",
       "      <td>New York</td>\n",
       "      <td>40.541805</td>\n",
       "      <td>-74.196109</td>\n",
       "      <td>129.032258</td>\n",
       "    </tr>\n",
       "    <tr>\n",
       "      <th>3</th>\n",
       "      <td>69000</td>\n",
       "      <td>3</td>\n",
       "      <td>1.0</td>\n",
       "      <td>445.000000</td>\n",
       "      <td>catering.bar</td>\n",
       "      <td>condo</td>\n",
       "      <td>Manhattan</td>\n",
       "      <td>10022</td>\n",
       "      <td>New York</td>\n",
       "      <td>40.761398</td>\n",
       "      <td>-73.974613</td>\n",
       "      <td>155.056180</td>\n",
       "    </tr>\n",
       "    <tr>\n",
       "      <th>6</th>\n",
       "      <td>899500</td>\n",
       "      <td>2</td>\n",
       "      <td>2.0</td>\n",
       "      <td>2184.207862</td>\n",
       "      <td>building</td>\n",
       "      <td>condo</td>\n",
       "      <td>Manhattan</td>\n",
       "      <td>10027</td>\n",
       "      <td>New York</td>\n",
       "      <td>40.809448</td>\n",
       "      <td>-73.946777</td>\n",
       "      <td>411.819779</td>\n",
       "    </tr>\n",
       "    <tr>\n",
       "      <th>8</th>\n",
       "      <td>265000</td>\n",
       "      <td>1</td>\n",
       "      <td>1.0</td>\n",
       "      <td>750.000000</td>\n",
       "      <td>building.residential</td>\n",
       "      <td>co-op</td>\n",
       "      <td>The Bronx</td>\n",
       "      <td>10473</td>\n",
       "      <td>New York</td>\n",
       "      <td>40.821586</td>\n",
       "      <td>-73.874089</td>\n",
       "      <td>353.333333</td>\n",
       "    </tr>\n",
       "  </tbody>\n",
       "</table>\n",
       "</div>"
      ],
      "text/plain": [
       "    PRICE  BEDS  BATH  PROPERTYSQFT     PROPERTY_CATEGORY   TYPE  \\\n",
       "0  315000     2   2.0   1400.000000   catering.restaurant  condo   \n",
       "2  260000     4   2.0   2015.000000  building.residential  house   \n",
       "3   69000     3   1.0    445.000000          catering.bar  condo   \n",
       "6  899500     2   2.0   2184.207862              building  condo   \n",
       "8  265000     1   1.0    750.000000  building.residential  co-op   \n",
       "\n",
       "  SUBLOCALITY_ext POSTCODE STATE_ext   LATITUDE  LONGITUDE  PRICE_PER_SQFT  \n",
       "0       Manhattan    10022  New York  40.761255 -73.974483      225.000000  \n",
       "2   Staten Island    10312  New York  40.541805 -74.196109      129.032258  \n",
       "3       Manhattan    10022  New York  40.761398 -73.974613      155.056180  \n",
       "6       Manhattan    10027  New York  40.809448 -73.946777      411.819779  \n",
       "8       The Bronx    10473  New York  40.821586 -73.874089      353.333333  "
      ]
     },
<<<<<<< HEAD
<<<<<<< HEAD
     "execution_count": 80,

=======
     "execution_count": 197,
>>>>>>> Marwa
     "metadata": {},
     "output_type": "execute_result"
    }
   ],
   "source": [
    "merged_df.head()"
   ]
  },
  {
   "cell_type": "code",
<<<<<<< HEAD
<<<<<<< HEAD
   "execution_count": 81,

=======
   "execution_count": 198,
>>>>>>> Marwa
   "metadata": {},
   "outputs": [
    {
     "data": {
      "text/plain": [
       "array(['catering.restaurant', 'building.residential', 'catering.bar',\n",
       "       'building', 'building.garage', 'commercial;rental.storage',\n",
       "       'catering.fast_food', 'accommodation.hotel',\n",
       "       'public_transport.bus', 'tourism.sights', 'sport.sports_centre',\n",
       "       'building.commercial', 'commercial',\n",
       "       'commercial.food_and_drink.bakery', 'catering.ice_cream',\n",
       "       'commercial;service.beauty.hairdresser',\n",
       "       'commercial.furniture_and_interior', 'commercial.pet;pet.shop',\n",
       "       'commercial.health_and_beauty;service.beauty.spa',\n",
       "       'healthcare.hospital', 'education.university', 'catering.cafe',\n",
       "       'commercial.convenience', 'building.office', 'building.healthcare',\n",
       "       'leisure.playground', 'commercial.clothing',\n",
       "       'commercial.discount_store', 'service.vehicle.fuel',\n",
       "       'commercial;service.cleaning.dry_cleaning'], dtype=object)"
      ]
     },
<<<<<<< HEAD
<<<<<<< HEAD
     "execution_count": 81,

=======
     "execution_count": 198,
>>>>>>> Marwa
     "metadata": {},
     "output_type": "execute_result"
    }
   ],
   "source": [
    "merged_df['PROPERTY_CATEGORY'].unique()"
   ]
  },
  {
   "cell_type": "code",
   "execution_count": 235,
   "metadata": {},
   "outputs": [
    {
     "data": {
      "text/html": [
       "<div>\n",
       "<style scoped>\n",
       "    .dataframe tbody tr th:only-of-type {\n",
       "        vertical-align: middle;\n",
       "    }\n",
       "\n",
       "    .dataframe tbody tr th {\n",
       "        vertical-align: top;\n",
       "    }\n",
       "\n",
       "    .dataframe thead th {\n",
       "        text-align: right;\n",
       "    }\n",
       "</style>\n",
       "<table border=\"1\" class=\"dataframe\">\n",
       "  <thead>\n",
       "    <tr style=\"text-align: right;\">\n",
       "      <th></th>\n",
       "      <th>PROPERTY_CATEGORY</th>\n",
       "    </tr>\n",
       "  </thead>\n",
       "  <tbody>\n",
       "    <tr>\n",
       "      <th>0</th>\n",
       "      <td>Commercial</td>\n",
       "    </tr>\n",
       "    <tr>\n",
       "      <th>2</th>\n",
       "      <td>Residential</td>\n",
       "    </tr>\n",
       "    <tr>\n",
       "      <th>3</th>\n",
       "      <td>Commercial</td>\n",
       "    </tr>\n",
       "    <tr>\n",
       "      <th>6</th>\n",
       "      <td>Residential</td>\n",
       "    </tr>\n",
       "    <tr>\n",
       "      <th>8</th>\n",
       "      <td>Residential</td>\n",
       "    </tr>\n",
       "    <tr>\n",
       "      <th>...</th>\n",
       "      <td>...</td>\n",
       "    </tr>\n",
       "    <tr>\n",
       "      <th>4192</th>\n",
       "      <td>Residential</td>\n",
       "    </tr>\n",
       "    <tr>\n",
       "      <th>4195</th>\n",
       "      <td>Residential</td>\n",
       "    </tr>\n",
       "    <tr>\n",
       "      <th>4197</th>\n",
       "      <td>Residential</td>\n",
       "    </tr>\n",
       "    <tr>\n",
       "      <th>4198</th>\n",
       "      <td>Residential</td>\n",
       "    </tr>\n",
       "    <tr>\n",
       "      <th>4199</th>\n",
       "      <td>Residential</td>\n",
       "    </tr>\n",
       "  </tbody>\n",
       "</table>\n",
       "<p>2716 rows × 1 columns</p>\n",
       "</div>"
      ],
      "text/plain": [
       "     PROPERTY_CATEGORY\n",
       "0           Commercial\n",
       "2          Residential\n",
       "3           Commercial\n",
       "6          Residential\n",
       "8          Residential\n",
       "...                ...\n",
       "4192       Residential\n",
       "4195       Residential\n",
       "4197       Residential\n",
       "4198       Residential\n",
       "4199       Residential\n",
       "\n",
       "[2716 rows x 1 columns]"
      ]
     },
     "execution_count": 235,
     "metadata": {},
     "output_type": "execute_result"
    }
   ],
<<<<<<< HEAD

=======
>>>>>>> Marwa
   "source": [
    "# Define mapping to major categories\n",
    "# Define mapping to major categories\n",
    "category_mapping = {\n",
    "    'building.residential': 'Residential',\n",
    "    'accommodation.hotel': 'Hospitality',\n",
    "    'healthcare.hospital': 'Other',  # \n",
    "    'building.commercial': 'Commercial',\n",
    "    'commercial': 'Commercial',\n",
    "    'commercial;service.beauty.hairdresser': 'Commercial',\n",
    "    'commercial.health_and_beauty;service.beauty.spa': 'Commercial',\n",
    "    'commercial.furniture_and_interior': 'Commercial',\n",
    "    'commercial.pet;pet.shop': 'Commercial',\n",
    "    'commercial.convenience': 'Commercial',\n",
    "    'catering.restaurant': 'Commercial',\n",
    "    'catering.bar': 'Commercial',\n",
    "    'catering.fast_food': 'Commercial',\n",
    "    'catering.ice_cream': 'Commercial',\n",
    "    'catering.cafe': 'Commercial',\n",
    "    'building.office': 'Commercial',\n",
    "    'building.healthcare': 'Other',  \n",
    "    'commercial.clothing': 'Commercial',\n",
    "    'commercial.discount_store': 'Commercial',\n",
    "    'service.vehicle.fuel': 'Commercial',\n",
    "    'commercial;rental.storage': 'Commercial',\n",
    "    'public_transport.bus': 'Other',\n",
    "    'tourism.sights': 'Other',\n",
    "    'sport.sports_centre': 'Other',\n",
    "    'leisure.playground': 'Other',\n",
    "    'education.university': 'Other',\n",
    "    'building.garage': 'Other',\n",
    "    'building': 'Residential',  \n",
    "    'commercial;service.cleaning.dry_cleaning': 'Commercial',\n",
    "}\n",
    "# Function to map categories\n",
    "def map_category(category):\n",
    "    return category_mapping.get(category, 'Other')\n",
    "\n",
    "# Apply the mapping\n",
    "merged_df['PROPERTY_CATEGORY'] = merged_df['PROPERTY_CATEGORY'].apply(map_category)\n",
    "\n",
    "# Display the updated DataFrame\n",
    "merged_df[['PROPERTY_CATEGORY']]"
<<<<<<< HEAD

=======
>>>>>>> Marwa
   ]
  },
  {
   "cell_type": "code",
<<<<<<< HEAD
<<<<<<< HEAD
   "execution_count": 83,

   "metadata": {},
   "outputs": [
    {
     "data": {
      "text/plain": [
       "array(['Residential', 'Commercial', 'Other', 'Hospitality'], dtype=object)"
      ]
     },
<<<<<<< HEAD
     "execution_count": 83,

     "metadata": {},
     "output_type": "execute_result"
    }
   ],
   "source": [
    "merged_df['PROPERTY_CATEGORY'].unique()"
   ]
  },
  {
   "cell_type": "code",
<<<<<<< HEAD
   "execution_count": 84,

=======
   "execution_count": 236,
>>>>>>> Marwa
   "metadata": {},
   "outputs": [],
   "source": [
    "# #Drop any rows with missing or unclassified values:\n",
    "merged_df = merged_df.dropna(subset=['TYPE', 'PROPERTY_CATEGORY'])\n"
   ]
  },
  {
   "cell_type": "code",
<<<<<<< HEAD
<<<<<<< HEAD
   "execution_count": 85,

=======
   "execution_count": 237,
>>>>>>> Marwa
   "metadata": {},
   "outputs": [
    {
     "data": {
      "text/plain": [
       "array(['Manhattan', 'Staten Island', 'The Bronx', 'Brooklyn', 'Queens',\n",
       "       'Queens County', 'Richmond County'], dtype=object)"
      ]
     },
<<<<<<< HEAD
     "execution_count": 85,

=======
     "execution_count": 237,
>>>>>>> Marwa
     "metadata": {},
     "output_type": "execute_result"
    }
   ],
   "source": [
    "merged_df['SUBLOCALITY_ext'].unique()"
<<<<<<< HEAD

=======
>>>>>>> Marwa
   ]
  },
  {
   "cell_type": "code",
<<<<<<< HEAD
<<<<<<< HEAD
   "execution_count": 86,

=======
   "execution_count": 238,
>>>>>>> Marwa
   "metadata": {},
   "outputs": [
    {
     "data": {
      "text/plain": [
       "PRICE                0\n",
       "BEDS                 0\n",
       "BATH                 0\n",
       "PROPERTYSQFT         0\n",
       "PROPERTY_CATEGORY    0\n",
       "TYPE                 0\n",
       "SUBLOCALITY_ext      0\n",
       "POSTCODE             0\n",
       "STATE_ext            0\n",
       "LATITUDE             0\n",
       "LONGITUDE            0\n",
       "PRICE_PER_SQFT       0\n",
       "dtype: int64"
      ]
     },
<<<<<<< HEAD
     "execution_count": 86,

=======
     "execution_count": 238,
>>>>>>> Marwa
     "metadata": {},
     "output_type": "execute_result"
    }
   ],
   "source": [
    "# Checking for any NaN values in the dataframe and dropping them if they exist.\n",
    "nan_check = merged_df.isna().sum()\n",
    "\n",
    "# Dropping rows with any NaN values if they exist\n",
    "df_cleaned = merged_df.dropna()\n",
    "nan_check"
   ]
  },
  {
   "cell_type": "code",
   "execution_count": 213,
   "metadata": {},
   "outputs": [
    {
     "data": {
      "text/html": [
       "<div>\n",
       "<style scoped>\n",
       "    .dataframe tbody tr th:only-of-type {\n",
       "        vertical-align: middle;\n",
       "    }\n",
       "\n",
       "    .dataframe tbody tr th {\n",
       "        vertical-align: top;\n",
       "    }\n",
       "\n",
       "    .dataframe thead th {\n",
       "        text-align: right;\n",
       "    }\n",
       "</style>\n",
       "<table border=\"1\" class=\"dataframe\">\n",
       "  <thead>\n",
       "    <tr style=\"text-align: right;\">\n",
       "      <th></th>\n",
       "      <th>PRICE</th>\n",
       "      <th>BEDS</th>\n",
       "      <th>BATH</th>\n",
       "      <th>PROPERTYSQFT</th>\n",
       "      <th>PROPERTY_CATEGORY</th>\n",
       "      <th>TYPE</th>\n",
       "      <th>SUBLOCALITY_ext</th>\n",
       "      <th>POSTCODE</th>\n",
       "      <th>STATE_ext</th>\n",
       "      <th>LATITUDE</th>\n",
       "      <th>LONGITUDE</th>\n",
       "      <th>PRICE_PER_SQFT</th>\n",
       "    </tr>\n",
       "  </thead>\n",
       "  <tbody>\n",
       "    <tr>\n",
       "      <th>0</th>\n",
       "      <td>315000</td>\n",
       "      <td>2</td>\n",
       "      <td>2.0</td>\n",
       "      <td>1400.000000</td>\n",
       "      <td>Commercial</td>\n",
       "      <td>condo</td>\n",
       "      <td>Manhattan</td>\n",
       "      <td>10022</td>\n",
       "      <td>New York</td>\n",
       "      <td>40.761255</td>\n",
       "      <td>-73.974483</td>\n",
       "      <td>225.000000</td>\n",
       "    </tr>\n",
       "    <tr>\n",
       "      <th>2</th>\n",
       "      <td>260000</td>\n",
       "      <td>4</td>\n",
       "      <td>2.0</td>\n",
       "      <td>2015.000000</td>\n",
       "      <td>Residential</td>\n",
       "      <td>house</td>\n",
       "      <td>Staten Island</td>\n",
       "      <td>10312</td>\n",
       "      <td>New York</td>\n",
       "      <td>40.541805</td>\n",
       "      <td>-74.196109</td>\n",
       "      <td>129.032258</td>\n",
       "    </tr>\n",
       "    <tr>\n",
       "      <th>3</th>\n",
       "      <td>69000</td>\n",
       "      <td>3</td>\n",
       "      <td>1.0</td>\n",
       "      <td>445.000000</td>\n",
       "      <td>Commercial</td>\n",
       "      <td>condo</td>\n",
       "      <td>Manhattan</td>\n",
       "      <td>10022</td>\n",
       "      <td>New York</td>\n",
       "      <td>40.761398</td>\n",
       "      <td>-73.974613</td>\n",
       "      <td>155.056180</td>\n",
       "    </tr>\n",
       "    <tr>\n",
       "      <th>6</th>\n",
       "      <td>899500</td>\n",
       "      <td>2</td>\n",
       "      <td>2.0</td>\n",
       "      <td>2184.207862</td>\n",
       "      <td>Residential</td>\n",
       "      <td>condo</td>\n",
       "      <td>Manhattan</td>\n",
       "      <td>10027</td>\n",
       "      <td>New York</td>\n",
       "      <td>40.809448</td>\n",
       "      <td>-73.946777</td>\n",
       "      <td>411.819779</td>\n",
       "    </tr>\n",
       "    <tr>\n",
       "      <th>8</th>\n",
       "      <td>265000</td>\n",
       "      <td>1</td>\n",
       "      <td>1.0</td>\n",
       "      <td>750.000000</td>\n",
       "      <td>Residential</td>\n",
       "      <td>co-op</td>\n",
       "      <td>The Bronx</td>\n",
       "      <td>10473</td>\n",
       "      <td>New York</td>\n",
       "      <td>40.821586</td>\n",
       "      <td>-73.874089</td>\n",
       "      <td>353.333333</td>\n",
       "    </tr>\n",
       "  </tbody>\n",
       "</table>\n",
       "</div>"
      ],
      "text/plain": [
       "    PRICE  BEDS  BATH  PROPERTYSQFT PROPERTY_CATEGORY   TYPE SUBLOCALITY_ext  \\\n",
       "0  315000     2   2.0   1400.000000        Commercial  condo       Manhattan   \n",
       "2  260000     4   2.0   2015.000000       Residential  house   Staten Island   \n",
       "3   69000     3   1.0    445.000000        Commercial  condo       Manhattan   \n",
       "6  899500     2   2.0   2184.207862       Residential  condo       Manhattan   \n",
       "8  265000     1   1.0    750.000000       Residential  co-op       The Bronx   \n",
       "\n",
       "  POSTCODE STATE_ext   LATITUDE  LONGITUDE  PRICE_PER_SQFT  \n",
       "0    10022  New York  40.761255 -73.974483      225.000000  \n",
       "2    10312  New York  40.541805 -74.196109      129.032258  \n",
       "3    10022  New York  40.761398 -73.974613      155.056180  \n",
       "6    10027  New York  40.809448 -73.946777      411.819779  \n",
       "8    10473  New York  40.821586 -73.874089      353.333333  "
      ]
     },
     "execution_count": 213,
     "metadata": {},
     "output_type": "execute_result"
    }
   ],
   "source": [
    "df_cleaned.head()"
<<<<<<< HEAD

=======
>>>>>>> Marwa
   ]
  },
  {
   "cell_type": "code",
<<<<<<< HEAD
<<<<<<< HEAD
   "execution_count": 88,

=======
   "execution_count": null,
>>>>>>> Marwa
   "metadata": {},
   "outputs": [
    {
     "name": "stdout",
     "output_type": "stream",
     "text": [
      "File saved as 'Cleaned_data'\n"
     ]
    }
   ],
   "source": [
    "# Save the merged DataFrame to a CSV file\n",
<<<<<<< HEAD
<<<<<<< HEAD
    "df_cleaned.to_csv('resources/Cleaned_data.csv', index=False)\n",

=======
    "df_cleaned.to_csv('resources/Cleaned_data_without_outliers.csv', index=False)\n",
>>>>>>> Marwa
    "\n",
    "# Confirm the file has been saved\n",
    "print(\"File saved as 'Cleaned_data_without_outliers'\")\n"
   ]
  },
  {
   "cell_type": "code",
   "execution_count": 240,
   "metadata": {},
   "outputs": [
    {
     "data": {
      "image/png": "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",
      "text/plain": [
       "<Figure size 1500x1000 with 6 Axes>"
      ]
     },
     "metadata": {},
     "output_type": "display_data"
    }
   ],
   "source": [
    "import matplotlib.pyplot as plt\n",
    "\n",
    "# Define the columns to visualize\n",
    "columns_to_visualize = ['PRICE', 'BEDS', 'BATH', 'PROPERTYSQFT', 'PRICE_PER_SQFT']\n",
    "\n",
    "# Create subplots for each column\n",
    "fig, axes = plt.subplots(nrows=2, ncols=3, figsize=(15, 10))\n",
    "\n",
    "# Flatten the axes array for easier iteration\n",
    "axes = axes.flatten()\n",
    "\n",
    "# Plot histograms for each column before and after cleaning\n",
    "for i, col in enumerate(columns_to_visualize):\n",
    "    # Plot before cleaning\n",
    "    df_cleaned[col].plot(kind='hist', bins=30, ax=axes[i], alpha=0.5, label='Before Cleaning', color='blue')\n",
    "    # Plot after cleaning\n",
    "    cleaned_df = remove_outliers(merged_df.copy(), col)  # Applying cleaning again to show after cleaning\n",
    "    cleaned_df[col].plot(kind='hist', bins=30, ax=axes[i], alpha=0.5, label='After Cleaning', color='red')\n",
    "    \n",
    "    axes[i].set_title(f'Histogram of {col}')\n",
    "    axes[i].set_xlabel(col)\n",
    "    axes[i].set_ylabel('Frequency')\n",
    "    axes[i].legend()\n",
    "\n",
    "plt.tight_layout()\n",
    "plt.show()\n"
   ]
  },
  {
   "cell_type": "code",
   "execution_count": 241,
   "metadata": {},
   "outputs": [
    {
     "data": {
      "text/html": [
       "<div>\n",
       "<style scoped>\n",
       "    .dataframe tbody tr th:only-of-type {\n",
       "        vertical-align: middle;\n",
       "    }\n",
       "\n",
       "    .dataframe tbody tr th {\n",
       "        vertical-align: top;\n",
       "    }\n",
       "\n",
       "    .dataframe thead th {\n",
       "        text-align: right;\n",
       "    }\n",
       "</style>\n",
       "<table border=\"1\" class=\"dataframe\">\n",
       "  <thead>\n",
       "    <tr style=\"text-align: right;\">\n",
       "      <th></th>\n",
       "      <th>PRICE</th>\n",
       "      <th>BEDS</th>\n",
       "      <th>BATH</th>\n",
       "      <th>PROPERTYSQFT</th>\n",
       "      <th>LATITUDE</th>\n",
       "      <th>LONGITUDE</th>\n",
       "      <th>PRICE_PER_SQFT</th>\n",
       "    </tr>\n",
       "  </thead>\n",
       "  <tbody>\n",
       "    <tr>\n",
       "      <th>count</th>\n",
       "      <td>2.716000e+03</td>\n",
       "      <td>2716.000000</td>\n",
       "      <td>2716.000000</td>\n",
       "      <td>2716.000000</td>\n",
       "      <td>2716.000000</td>\n",
       "      <td>2716.000000</td>\n",
       "      <td>2716.000000</td>\n",
       "    </tr>\n",
       "    <tr>\n",
       "      <th>mean</th>\n",
       "      <td>8.095650e+05</td>\n",
       "      <td>2.991900</td>\n",
       "      <td>1.968637</td>\n",
       "      <td>1765.051289</td>\n",
       "      <td>40.700722</td>\n",
       "      <td>-73.940012</td>\n",
       "      <td>488.404577</td>\n",
       "    </tr>\n",
       "    <tr>\n",
       "      <th>std</th>\n",
       "      <td>4.784320e+05</td>\n",
       "      <td>1.429217</td>\n",
       "      <td>0.885881</td>\n",
       "      <td>679.356345</td>\n",
       "      <td>0.092465</td>\n",
       "      <td>0.112755</td>\n",
       "      <td>248.970116</td>\n",
       "    </tr>\n",
       "    <tr>\n",
       "      <th>min</th>\n",
       "      <td>3.225000e+03</td>\n",
       "      <td>1.000000</td>\n",
       "      <td>0.000000</td>\n",
       "      <td>230.000000</td>\n",
       "      <td>40.499546</td>\n",
       "      <td>-74.252823</td>\n",
       "      <td>1.476508</td>\n",
       "    </tr>\n",
       "    <tr>\n",
       "      <th>25%</th>\n",
       "      <td>4.750000e+05</td>\n",
       "      <td>2.000000</td>\n",
       "      <td>1.000000</td>\n",
       "      <td>1189.500000</td>\n",
       "      <td>40.622194</td>\n",
       "      <td>-73.988962</td>\n",
       "      <td>315.588280</td>\n",
       "    </tr>\n",
       "    <tr>\n",
       "      <th>50%</th>\n",
       "      <td>7.150000e+05</td>\n",
       "      <td>3.000000</td>\n",
       "      <td>2.000000</td>\n",
       "      <td>2069.000000</td>\n",
       "      <td>40.705896</td>\n",
       "      <td>-73.937491</td>\n",
       "      <td>444.457922</td>\n",
       "    </tr>\n",
       "    <tr>\n",
       "      <th>75%</th>\n",
       "      <td>9.990000e+05</td>\n",
       "      <td>4.000000</td>\n",
       "      <td>2.373861</td>\n",
       "      <td>2184.207862</td>\n",
       "      <td>40.766288</td>\n",
       "      <td>-73.857774</td>\n",
       "      <td>629.056886</td>\n",
       "    </tr>\n",
       "    <tr>\n",
       "      <th>max</th>\n",
       "      <td>2.800000e+06</td>\n",
       "      <td>7.000000</td>\n",
       "      <td>4.000000</td>\n",
       "      <td>3733.000000</td>\n",
       "      <td>40.911772</td>\n",
       "      <td>-73.703904</td>\n",
       "      <td>1201.005025</td>\n",
       "    </tr>\n",
       "  </tbody>\n",
       "</table>\n",
       "</div>"
      ],
      "text/plain": [
       "              PRICE         BEDS         BATH  PROPERTYSQFT     LATITUDE  \\\n",
       "count  2.716000e+03  2716.000000  2716.000000   2716.000000  2716.000000   \n",
       "mean   8.095650e+05     2.991900     1.968637   1765.051289    40.700722   \n",
       "std    4.784320e+05     1.429217     0.885881    679.356345     0.092465   \n",
       "min    3.225000e+03     1.000000     0.000000    230.000000    40.499546   \n",
       "25%    4.750000e+05     2.000000     1.000000   1189.500000    40.622194   \n",
       "50%    7.150000e+05     3.000000     2.000000   2069.000000    40.705896   \n",
       "75%    9.990000e+05     4.000000     2.373861   2184.207862    40.766288   \n",
       "max    2.800000e+06     7.000000     4.000000   3733.000000    40.911772   \n",
       "\n",
       "         LONGITUDE  PRICE_PER_SQFT  \n",
       "count  2716.000000     2716.000000  \n",
       "mean    -73.940012      488.404577  \n",
       "std       0.112755      248.970116  \n",
       "min     -74.252823        1.476508  \n",
       "25%     -73.988962      315.588280  \n",
       "50%     -73.937491      444.457922  \n",
       "75%     -73.857774      629.056886  \n",
       "max     -73.703904     1201.005025  "
      ]
     },
     "execution_count": 241,
     "metadata": {},
     "output_type": "execute_result"
    }
   ],
   "source": [
    "df_cleaned.describe()"
   ]
  }
 ],
 "metadata": {
  "kernelspec": {
   "display_name": "dev",
   "language": "python",
   "name": "python3"
  },
  "language_info": {
   "codemirror_mode": {
    "name": "ipython",
    "version": 3
   },
   "file_extension": ".py",
   "mimetype": "text/x-python",
   "name": "python",
   "nbconvert_exporter": "python",
   "pygments_lexer": "ipython3",
   "version": "3.10.14"
  }
 },
 "nbformat": 4,
 "nbformat_minor": 2
}
