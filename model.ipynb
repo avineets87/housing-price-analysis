{
 "cells": [
  {
   "cell_type": "code",
   "execution_count": null,
   "metadata": {
    "vscode": {
     "languageId": "plaintext"
    }
   },
   "outputs": [],
   "source": [
    "import pandas as pd"
   ]
  },
  {
   "cell_type": "code",
   "execution_count": null,
   "metadata": {
    "vscode": {
     "languageId": "plaintext"
    }
   },
   "outputs": [],
   "source": [
    "\n",
    "# Read the CSV files into DataFrames\n",
    "df1 = pd.read_csv('./resources/NY-House-Dataset.csv')  # This file has LATITUDE and LONGITUDE\n",
    "df2 = pd.read_csv('./resources/housing_additional_data_file.csv')  # This file has lat and lon\n",
    "\n",
    "# Merge the DataFrames using different column names\n",
    "merged_df = pd.merge(df1, df2, left_on=['LATITUDE', 'LONGITUDE'], right_on=['lat', 'lon'], how='inner')\n",
    "\n",
    "# Display the merged DataFrame\n",
    "print(merged_df)"
   ]
  }
 ],
 "metadata": {
  "language_info": {
   "name": "python"
  }
 },
 "nbformat": 4,
 "nbformat_minor": 2
}
